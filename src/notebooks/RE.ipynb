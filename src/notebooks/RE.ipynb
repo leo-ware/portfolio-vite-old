{
 "cells": [
  {
   "cell_type": "markdown",
   "metadata": {},
   "source": [
    "For unit $i \\in \\{1...n\\}$,\n",
    "\n",
    "$$\n",
    "y_i = X_i \\alpha + Z_i \\beta + \\epsilon_i\n",
    "$$\n",
    "\n",
    "Here,\n",
    "- $y_i$ is the $(d_i \\times 1)$ vector of observations for the unit $i$\n",
    "- $X_i$ is the $(d_i \\times q)$ fixed effects design matrix for $i$\n",
    "- $Z_i$ is the $(d_i \\times r)$ random effects design matrix for $i$\n",
    "- $\\alpha$ is the $(q \\times 1)$ fixed effects coefficient vector\n",
    "- $\\beta$ is the $(r \\times 1)$ random effects coefficient vector\n",
    "- $\\epsilon$ is a $(d_i \\times 1)$ residual vector"
   ]
  },
  {
   "cell_type": "markdown",
   "metadata": {},
   "source": [
    "We have that,\n",
    "\n",
    "- $X_i$ and $Z_i$ are known\n",
    "- $\\beta \\sim N(0, D(\\theta))$, where $D(\\theta)$ is positive semi-definite\n",
    "- $\\epsilon_i \\sim N(0, \\Delta(\\theta, d_i))$, where $\\Delta(\\theta, d_i)$ is positive semi-definite"
   ]
  },
  {
   "cell_type": "markdown",
   "metadata": {},
   "source": [
    "This regression equation only represents one unit. To get an equation for all units, we construct the matrices\n",
    "\n",
    "$$\n",
    "y = \\begin{bmatrix}y_1 \\\\ y_2 \\\\ \\vdots \\\\ y_n\\end{bmatrix},\n",
    "X = \\begin{bmatrix}X_1 \\\\ X_2 \\\\ \\vdots \\\\ X_n\\end{bmatrix},\n",
    "Z = \\begin{bmatrix}Z_1 \\\\ Z_2 \\\\ \\vdots \\\\ Z_n\\end{bmatrix},\n",
    "\\epsilon = \\begin{bmatrix}\\epsilon_1 \\\\ \\epsilon_2 \\\\ \\vdots \\\\ \\epsilon_n\\end{bmatrix}\n",
    "$$"
   ]
  },
  {
   "cell_type": "markdown",
   "metadata": {},
   "source": [
    "Then, the regression equations for the whole dataset are:\n",
    "\n",
    "$$\n",
    "y = X \\alpha + Z \\beta + \\epsilon\n",
    "$$\n",
    "\n",
    "$$\\epsilon \\sim N(0, \\Delta(\\theta, n))$$"
   ]
  },
  {
   "cell_type": "markdown",
   "metadata": {},
   "source": [
    "The random effects $\\beta$ won't show up in the final model. Instead, our goal is to fit the parameters $\\theta$ and $\\alpha$ using the data $X_i$, $Z_i$, and $y_i$. So, the first thing we need to do it get an expression that relates these terms.\n",
    "\n",
    "In the regression equation above, $X_i a$ is fixed, and since $\\beta$ normally distributed, $Z_i \\beta$ is as well. We have $y_i$ as a sum of a fixed term and two normally distributed random values, which means that $y_i$ is normally distributed. So, if we can figure out the expected value and covariance of $y_i$, we can get its distribution.\n",
    "\n",
    "Recall that if two random vectors $u$ and $v$ are normally distributed with $u \\sim N(\\mu_u, \\sigma_u^2)$ and $v \\sim N(\\mu_v, \\sigma_v^2)$, then $u + v \\sim N(\\mu_u + \\mu_v, \\sigma_u^2 + \\sigma_v^2)$. If $A$ is a matrix, then $Au \\sim N(A \\mu_u, A \\sigma_u^2 A^T)$.\n",
    "\n",
    "Since $E[\\beta] = 0$ and $E[\\epsilon] = 0$, we can determine that $E[y] = X \\alpha$. Dropping the constant term $X \\alpha$, we can determine that $\\text{Cov}(y) = \\text{Cov}(Z \\beta) + \\text{Cov}(\\epsilon) = Z D(\\theta) Z^T + \\Delta(\\theta, n)$.\n",
    "\n",
    "We arrive at, $y \\sim N(X a, \\Delta(\\theta, n) + Z D(\\theta) Z^T)$"
   ]
  },
  {
   "cell_type": "markdown",
   "metadata": {},
   "source": [
    "If $\\theta$ is known, then we can use the GLS estimator to find $\\alpha$."
   ]
  }
 ],
 "metadata": {
  "kernelspec": {
   "display_name": "Python 3",
   "language": "python",
   "name": "python3"
  },
  "language_info": {
   "codemirror_mode": {
    "name": "ipython",
    "version": 3
   },
   "file_extension": ".py",
   "mimetype": "text/x-python",
   "name": "python",
   "nbconvert_exporter": "python",
   "pygments_lexer": "ipython3",
   "version": "3.10.0"
  }
 },
 "nbformat": 4,
 "nbformat_minor": 2
}
